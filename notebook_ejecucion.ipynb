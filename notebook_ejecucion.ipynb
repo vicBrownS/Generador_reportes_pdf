{
 "cells": [
  {
   "metadata": {},
   "cell_type": "markdown",
   "source": [
    "# Notebook de ejecucion del proyecto de generacion de reporte\n",
    "## De los contenidos del notebook saldrá el script final\n",
    "### Se añadiran explicaciones pertinentes tanto en md como en comentarios del codigo"
   ],
   "id": "7f09c82273779a89"
  },
  {
   "metadata": {},
   "cell_type": "markdown",
   "source": "El objetivo de este proyecto es el uso de las librerias pypdf y reportlab para generar un reporte automático en pdf, como ejemplo de datos se utilizan los provenientes del archivo Financial Sample.csv, que se trataran con pandas y se generarán graficos con matplotlib.",
   "id": "2e087629e21ef05a"
  },
  {
   "metadata": {},
   "cell_type": "markdown",
   "source": "### Importamos las librerias",
   "id": "6de73ba3bcf3ab34"
  },
  {
   "metadata": {
    "ExecuteTime": {
     "end_time": "2025-03-12T09:24:21.090487Z",
     "start_time": "2025-03-12T09:24:21.081863Z"
    }
   },
   "cell_type": "code",
   "source": [
    "import pandas as pd\n",
    "import matplotlib.pyplot as plt\n",
    "from reportlab.pdfgen import canvas\n",
    "from reportlab.platypus import Table, TableStyle\n",
    "from reportlab.lib.colors import *"
   ],
   "id": "6df6c7d7267412b7",
   "outputs": [],
   "execution_count": 71
  },
  {
   "metadata": {},
   "cell_type": "markdown",
   "source": "### Cargamos los datos del csv  ",
   "id": "e678667cfc200c08"
  },
  {
   "cell_type": "code",
   "id": "initial_id",
   "metadata": {
    "collapsed": true,
    "ExecuteTime": {
     "end_time": "2025-03-12T09:24:21.147627Z",
     "start_time": "2025-03-12T09:24:21.129232Z"
    }
   },
   "source": "df = pd.read_csv('data/Financial Sample.csv')   ",
   "outputs": [],
   "execution_count": 72
  },
  {
   "metadata": {},
   "cell_type": "markdown",
   "source": "### Analizamos el df y vemos los insights y gráficas que vamos a extraer",
   "id": "f620ed620cc964fe"
  },
  {
   "metadata": {
    "ExecuteTime": {
     "end_time": "2025-03-12T09:24:21.186676Z",
     "start_time": "2025-03-12T09:24:21.177538Z"
    }
   },
   "cell_type": "code",
   "source": "df.shape",
   "id": "e6eae4068247843e",
   "outputs": [
    {
     "data": {
      "text/plain": [
       "(700, 16)"
      ]
     },
     "execution_count": 73,
     "metadata": {},
     "output_type": "execute_result"
    }
   ],
   "execution_count": 73
  },
  {
   "metadata": {
    "ExecuteTime": {
     "end_time": "2025-03-12T09:24:21.387424Z",
     "start_time": "2025-03-12T09:24:21.366335Z"
    }
   },
   "cell_type": "code",
   "source": "df.head()",
   "id": "341e920dade171b0",
   "outputs": [
    {
     "data": {
      "text/plain": [
       "            Segment                   Country     Product   Discount Band   \\\n",
       "0  Channel Partners  United States of America   Carretera            High    \n",
       "1        Government  United States of America     Montana            High    \n",
       "2  Channel Partners  United States of America       Paseo            High    \n",
       "3        Enterprise  United States of America   Carretera            High    \n",
       "4        Enterprise                    France   Carretera            High    \n",
       "\n",
       "   Units Sold   Manufacturing Price   Sale Price    Gross Sales   \\\n",
       "0     $386.00                 $3.00       $12.00      $4,632.00    \n",
       "1   $2,328.00                 $5.00        $7.00     $16,296.00    \n",
       "2     $386.00                $10.00       $12.00      $4,632.00    \n",
       "3   $3,445.50                 $3.00      $125.00    $430,687.50    \n",
       "4   $1,482.00                 $3.00      $125.00    $185,250.00    \n",
       "\n",
       "     Discounts          Sales           COGS         Profit        Date  \\\n",
       "0      $463.20      $4,168.80      $1,158.00      $3,010.80   10/1/2013   \n",
       "1    $1,629.60     $14,666.40     $11,640.00      $3,026.40    9/1/2014   \n",
       "2      $463.20      $4,168.80      $1,158.00      $3,010.80   10/1/2013   \n",
       "3   $43,068.75    $387,618.75    $413,460.00    $(25,841.25)   4/1/2014   \n",
       "4   $18,525.00    $166,725.00    $177,840.00    $(11,115.00)  12/1/2013   \n",
       "\n",
       "   Month Number  Month Name   Year  \n",
       "0            10     October   2013  \n",
       "1             9   September   2014  \n",
       "2            10     October   2013  \n",
       "3             4       April   2014  \n",
       "4            12    December   2013  "
      ],
      "text/html": [
       "<div>\n",
       "<style scoped>\n",
       "    .dataframe tbody tr th:only-of-type {\n",
       "        vertical-align: middle;\n",
       "    }\n",
       "\n",
       "    .dataframe tbody tr th {\n",
       "        vertical-align: top;\n",
       "    }\n",
       "\n",
       "    .dataframe thead th {\n",
       "        text-align: right;\n",
       "    }\n",
       "</style>\n",
       "<table border=\"1\" class=\"dataframe\">\n",
       "  <thead>\n",
       "    <tr style=\"text-align: right;\">\n",
       "      <th></th>\n",
       "      <th>Segment</th>\n",
       "      <th>Country</th>\n",
       "      <th>Product</th>\n",
       "      <th>Discount Band</th>\n",
       "      <th>Units Sold</th>\n",
       "      <th>Manufacturing Price</th>\n",
       "      <th>Sale Price</th>\n",
       "      <th>Gross Sales</th>\n",
       "      <th>Discounts</th>\n",
       "      <th>Sales</th>\n",
       "      <th>COGS</th>\n",
       "      <th>Profit</th>\n",
       "      <th>Date</th>\n",
       "      <th>Month Number</th>\n",
       "      <th>Month Name</th>\n",
       "      <th>Year</th>\n",
       "    </tr>\n",
       "  </thead>\n",
       "  <tbody>\n",
       "    <tr>\n",
       "      <th>0</th>\n",
       "      <td>Channel Partners</td>\n",
       "      <td>United States of America</td>\n",
       "      <td>Carretera</td>\n",
       "      <td>High</td>\n",
       "      <td>$386.00</td>\n",
       "      <td>$3.00</td>\n",
       "      <td>$12.00</td>\n",
       "      <td>$4,632.00</td>\n",
       "      <td>$463.20</td>\n",
       "      <td>$4,168.80</td>\n",
       "      <td>$1,158.00</td>\n",
       "      <td>$3,010.80</td>\n",
       "      <td>10/1/2013</td>\n",
       "      <td>10</td>\n",
       "      <td>October</td>\n",
       "      <td>2013</td>\n",
       "    </tr>\n",
       "    <tr>\n",
       "      <th>1</th>\n",
       "      <td>Government</td>\n",
       "      <td>United States of America</td>\n",
       "      <td>Montana</td>\n",
       "      <td>High</td>\n",
       "      <td>$2,328.00</td>\n",
       "      <td>$5.00</td>\n",
       "      <td>$7.00</td>\n",
       "      <td>$16,296.00</td>\n",
       "      <td>$1,629.60</td>\n",
       "      <td>$14,666.40</td>\n",
       "      <td>$11,640.00</td>\n",
       "      <td>$3,026.40</td>\n",
       "      <td>9/1/2014</td>\n",
       "      <td>9</td>\n",
       "      <td>September</td>\n",
       "      <td>2014</td>\n",
       "    </tr>\n",
       "    <tr>\n",
       "      <th>2</th>\n",
       "      <td>Channel Partners</td>\n",
       "      <td>United States of America</td>\n",
       "      <td>Paseo</td>\n",
       "      <td>High</td>\n",
       "      <td>$386.00</td>\n",
       "      <td>$10.00</td>\n",
       "      <td>$12.00</td>\n",
       "      <td>$4,632.00</td>\n",
       "      <td>$463.20</td>\n",
       "      <td>$4,168.80</td>\n",
       "      <td>$1,158.00</td>\n",
       "      <td>$3,010.80</td>\n",
       "      <td>10/1/2013</td>\n",
       "      <td>10</td>\n",
       "      <td>October</td>\n",
       "      <td>2013</td>\n",
       "    </tr>\n",
       "    <tr>\n",
       "      <th>3</th>\n",
       "      <td>Enterprise</td>\n",
       "      <td>United States of America</td>\n",
       "      <td>Carretera</td>\n",
       "      <td>High</td>\n",
       "      <td>$3,445.50</td>\n",
       "      <td>$3.00</td>\n",
       "      <td>$125.00</td>\n",
       "      <td>$430,687.50</td>\n",
       "      <td>$43,068.75</td>\n",
       "      <td>$387,618.75</td>\n",
       "      <td>$413,460.00</td>\n",
       "      <td>$(25,841.25)</td>\n",
       "      <td>4/1/2014</td>\n",
       "      <td>4</td>\n",
       "      <td>April</td>\n",
       "      <td>2014</td>\n",
       "    </tr>\n",
       "    <tr>\n",
       "      <th>4</th>\n",
       "      <td>Enterprise</td>\n",
       "      <td>France</td>\n",
       "      <td>Carretera</td>\n",
       "      <td>High</td>\n",
       "      <td>$1,482.00</td>\n",
       "      <td>$3.00</td>\n",
       "      <td>$125.00</td>\n",
       "      <td>$185,250.00</td>\n",
       "      <td>$18,525.00</td>\n",
       "      <td>$166,725.00</td>\n",
       "      <td>$177,840.00</td>\n",
       "      <td>$(11,115.00)</td>\n",
       "      <td>12/1/2013</td>\n",
       "      <td>12</td>\n",
       "      <td>December</td>\n",
       "      <td>2013</td>\n",
       "    </tr>\n",
       "  </tbody>\n",
       "</table>\n",
       "</div>"
      ]
     },
     "execution_count": 74,
     "metadata": {},
     "output_type": "execute_result"
    }
   ],
   "execution_count": 74
  },
  {
   "metadata": {
    "ExecuteTime": {
     "end_time": "2025-03-12T09:24:21.508886Z",
     "start_time": "2025-03-12T09:24:21.500489Z"
    }
   },
   "cell_type": "code",
   "source": "df.columns",
   "id": "764adaaf2ed1c2d",
   "outputs": [
    {
     "data": {
      "text/plain": [
       "Index(['Segment', 'Country', ' Product ', ' Discount Band ', ' Units Sold ',\n",
       "       ' Manufacturing Price ', ' Sale Price ', ' Gross Sales ', ' Discounts ',\n",
       "       '  Sales ', ' COGS ', ' Profit ', 'Date', 'Month Number',\n",
       "       ' Month Name ', 'Year'],\n",
       "      dtype='object')"
      ]
     },
     "execution_count": 75,
     "metadata": {},
     "output_type": "execute_result"
    }
   ],
   "execution_count": 75
  },
  {
   "metadata": {},
   "cell_type": "markdown",
   "source": "Quitamos los espacios en el nombre de las columnas",
   "id": "240f98f94e1e7988"
  },
  {
   "metadata": {
    "ExecuteTime": {
     "end_time": "2025-03-12T09:24:21.712731Z",
     "start_time": "2025-03-12T09:24:21.706965Z"
    }
   },
   "cell_type": "code",
   "source": [
    "columnas = []\n",
    "for column in df.columns:\n",
    "    columnas.append(column.strip())\n",
    "print(columnas)\n",
    "df.columns = columnas"
   ],
   "id": "8b9c9e29f81ed438",
   "outputs": [
    {
     "name": "stdout",
     "output_type": "stream",
     "text": [
      "['Segment', 'Country', 'Product', 'Discount Band', 'Units Sold', 'Manufacturing Price', 'Sale Price', 'Gross Sales', 'Discounts', 'Sales', 'COGS', 'Profit', 'Date', 'Month Number', 'Month Name', 'Year']\n"
     ]
    }
   ],
   "execution_count": 76
  },
  {
   "metadata": {
    "ExecuteTime": {
     "end_time": "2025-03-12T09:24:22.011296Z",
     "start_time": "2025-03-12T09:24:21.996378Z"
    }
   },
   "cell_type": "code",
   "source": "df.Country.value_counts()",
   "id": "ffa537ba02b4f3dd",
   "outputs": [
    {
     "data": {
      "text/plain": [
       "Country\n",
       "United States of America    140\n",
       "France                      140\n",
       "Mexico                      140\n",
       "Germany                     140\n",
       "Canada                      140\n",
       "Name: count, dtype: int64"
      ]
     },
     "execution_count": 77,
     "metadata": {},
     "output_type": "execute_result"
    }
   ],
   "execution_count": 77
  },
  {
   "metadata": {},
   "cell_type": "markdown",
   "source": "Analizamos los tipos de cada columna del df",
   "id": "9be307cd9c508d8"
  },
  {
   "metadata": {
    "ExecuteTime": {
     "end_time": "2025-03-12T09:24:22.257216Z",
     "start_time": "2025-03-12T09:24:22.246375Z"
    }
   },
   "cell_type": "code",
   "source": "df.dtypes",
   "id": "ccd80d39dadfdc9d",
   "outputs": [
    {
     "data": {
      "text/plain": [
       "Segment                object\n",
       "Country                object\n",
       "Product                object\n",
       "Discount Band          object\n",
       "Units Sold             object\n",
       "Manufacturing Price    object\n",
       "Sale Price             object\n",
       "Gross Sales            object\n",
       "Discounts              object\n",
       "Sales                  object\n",
       "COGS                   object\n",
       "Profit                 object\n",
       "Date                   object\n",
       "Month Number            int64\n",
       "Month Name             object\n",
       "Year                    int64\n",
       "dtype: object"
      ]
     },
     "execution_count": 78,
     "metadata": {},
     "output_type": "execute_result"
    }
   ],
   "execution_count": 78
  },
  {
   "metadata": {},
   "cell_type": "markdown",
   "source": "Revisamos la columna Discounts debido a que su columna categorica Discount Band tiene valores nulos, entonces nos podemos imaginar que Discounts puede tener valores nulos o raros",
   "id": "13b4b575895368a1"
  },
  {
   "metadata": {
    "ExecuteTime": {
     "end_time": "2025-03-12T09:24:22.448081Z",
     "start_time": "2025-03-12T09:24:22.430269Z"
    }
   },
   "cell_type": "code",
   "source": "print(df.Discounts.unique())",
   "id": "2cec17e6ceb7497f",
   "outputs": [
    {
     "name": "stdout",
     "output_type": "stream",
     "text": [
      "[' $463.20 ' ' $1,629.60 ' ' $43,068.75 ' ' $18,525.00 ' ' $80,955.00 '\n",
      " ' $22,550.00 ' ' $3,108.00 ' ' $3,908.00 ' ' $17,730.00 ' ' $3,250.50 '\n",
      " ' $482.00 ' ' $1,021.50 ' ' $765.00 ' ' $1,185.00 ' ' $22,365.00 '\n",
      " ' $19,950.00 ' ' $68,820.00 ' ' $1,865.50 ' ' $23,950.00 ' ' $25,590.00 '\n",
      " ' $4,262.50 ' ' $961.50 ' ' $98,245.00 ' ' $12,960.00 ' ' $31,612.50 '\n",
      " ' $65,450.00 ' ' $7,237.50 ' ' $78,400.00 ' ' $89,790.00 ' ' $4,224.60 '\n",
      " ' $4,078.00 ' ' $3,088.80 ' ' $24,745.00 ' ' $1,581.36 ' ' $1,949.64 '\n",
      " ' $633.60 ' ' $623.04 ' ' $1,215.83 ' ' $1,326.60 ' ' $5,279.18 '\n",
      " ' $2,556.84 ' ' $30,492.00 ' ' $92,763.00 ' ' $33,563.75 ' ' $2,574.00 '\n",
      " ' $2,083.62 ' ' $29,491.00 ' ' $6,582.40 ' ' $3,559.05 ' ' $28,809.00 '\n",
      " ' $2,468.40 ' ' $81,023.25 ' ' $5,314.32 ' ' $3,201.66 ' ' $5,266.80 '\n",
      " ' $3,273.60 ' ' $45,078.00 ' ' $6,171.00 ' ' $1,080.75 ' ' $13,244.00 '\n",
      " ' $1,392.16 ' ' $2,288.88 ' ' $7,617.50 ' ' $6,457.00 ' ' $43,518.75 '\n",
      " ' $5,783.80 ' ' $19,703.75 ' ' $13,021.25 ' ' $292.60 ' ' $37,212.00 '\n",
      " ' $36,240.00 ' ' $32,340.00 ' ' $4,840.20 ' ' $1,218.60 ' ' $63,828.00 '\n",
      " ' $2,032.80 ' ' $2,296.56 ' ' $4,116.00 ' ' $42,696.00 ' ' $125,820.00 '\n",
      " ' $2,172.00 ' ' $66,948.00 ' ' $48,924.00 ' ' $77,400.00 ' ' $50,274.00 '\n",
      " ' $684.00 ' ' $2,959.20 ' ' $58,590.00 ' ' $41,412.00 ' ' $3,036.96 '\n",
      " ' $6,974.10 ' ' $26,166.00 ' ' $35,805.00 ' ' $11,340.00 ' ' $2,874.06 '\n",
      " ' $4,586.40 ' ' $6,051.60 ' ' $3,831.84 ' ' $3,674.40 ' ' $1,252.44 '\n",
      " ' $3,975.84 ' ' $5,005.65 ' ' $41,996.50 ' ' $81,445.00 ' ' $1,149.20 '\n",
      " ' $44,703.75 ' ' $1,181.18 ' ' $942.24 ' ' $5,863.00 ' ' $3,247.40 '\n",
      " ' $1,309.04 ' ' $31,473.00 ' ' $6,866.60 ' ' $7,040.80 ' ' $119,756.00 '\n",
      " ' $25,723.75 ' ' $890.76 ' ' $2,453.36 ' ' $3,051.75 ' ' $16,243.50 '\n",
      " ' $1,580.28 ' ' $7,795.13 ' ' $1,082.90 ' ' $1,287.00 ' ' $639.60 '\n",
      " ' $101,595.00 ' ' $26,958.75 ' ' $2,761.20 ' ' $7,221.20 ' ' $4,880.40 '\n",
      " ' $2,936.08 ' ' $274.40 ' ' $287.14 ' ' $583.80 ' ' $6,798.40 '\n",
      " ' $3,710.70 ' ' $2,340.24 ' ' $3,385.20 ' ' $33,642.00 ' ' $17,902.50 '\n",
      " ' $62,832.00 ' ' $42,420.00 ' ' $3,177.30 ' ' $4,830.00 ' ' $49,367.50 '\n",
      " ' $109,147.50 ' ' $58,751.00 ' ' $9,800.00 ' ' $380.24 ' ' $1,692.46 '\n",
      " ' $728.00 ' ' $5,187.00 ' ' $3,660.30 ' ' $4,895.52 ' ' $1,696.38 '\n",
      " ' $34,300.00 ' ' $3,732.96 ' ' $57,673.00 ' ' $94,178.00 ' ' $27,562.50 '\n",
      " ' $1,696.80 ' ' $103,320.00 ' ' $11,298.00 ' ' $106,512.00 '\n",
      " ' $2,844.94 ' ' $106,722.00 ' ' $62,769.00 ' ' $37,296.00 '\n",
      " ' $49,770.00 ' ' $4,158.00 ' ' $3,927.00 ' ' $22,012.50 ' ' $51,881.25 '\n",
      " ' $20,343.75 ' ' $24,570.00 ' ' $3,474.00 ' ' $3,631.50 ' ' $2,661.75 '\n",
      " ' $149,677.50 ' ' $5,757.75 ' ' $801.00 ' ' $2,643.75 ' ' $105,367.50 '\n",
      " ' $112,927.50 ' ' $1,645.20 ' ' $879.00 ' ' $900.00 ' ' $6,358.50 '\n",
      " ' $12,431.25 ' ' $115,830.00 ' ' $45,712.50 ' ' $2,596.50 ' ' $1,107.00 '\n",
      " ' $55,387.50 ' ' $10,350.00 ' ' $111,375.00 ' ' $1,436.40 ' ' $759.15 '\n",
      " ' $3,250.80 ' ' $276.15 ' ' $344.40 ' ' $72.10 ' ' $44.73 ' ' $92.82 '\n",
      " ' $222.96 ' ' $4,235.00 ' ' $177.03 ' ' $173.40 ' ' $412.50 ' ' $320.52 '\n",
      " ' $91.92 ' ' $1,482.00 ' ' $4,889.50 ' ' $7,542.50 ' ' $332.10 '\n",
      " ' $6,903.00 ' ' $275.10 ' ' $128.10 ' ' $7,494.00 ' ' $828.75 '\n",
      " ' $227.10 ' ' $314.48 ' ' $908.75 ' ' $983.75 ' ' $2,278.75 ' ' $112.05 '\n",
      " ' $8,715.00 ' ' $772.80 ' ' $25.34 ' ' $1,153.75 ' ' $146.44 ' ' $18.41 '\n",
      " ' $3,302.25 ' ' $2,958.00 ' ' $2,180.00 ' ' $238.68 ' ' $48.15 '\n",
      " ' $1,856.25 ' ' $310.80 ' ' $1,284.00 ' ' $300.30 ' ' $19,964.00 '\n",
      " ' $274.08 ' ' $626.40 ' ' $165.60 ' ' $4,150.00 ' ' $708.90 '\n",
      " ' $5,508.00 ' ' $10,368.00 ' ' $1,655.00 ' ' $2,022.50 ' ' $5,362.50 '\n",
      " ' $428.40 ' ' $11,496.00 ' ' $6,822.50 ' ' $577.50 ' ' $281.82 '\n",
      " ' $253.20 ' ' $260.16 ' ' $20,762.00 ' ' $20,139.00 ' ' $217.60 '\n",
      " ' $1,862.00 ' ' $13,580.00 ' ' $1,554.00 ' ' $6,606.00 ' ' $5,690.00 '\n",
      " ' $494.40 ' ' $376.40 ' ' $15,913.13 ' ' $1,548.00 ' ' $6,201.00 '\n",
      " ' $700.92 ' ' $326.88 ' ' $411.18 ' ' $684.36 ' ' $114.24 '\n",
      " ' $18,868.50 ' ' $4,826.25 ' ' $6,397.50 ' ' $21,910.50 ' ' $6,652.50 '\n",
      " ' $5,887.50 ' ' $493.02 ' ' $7,533.75 ' ' $875.25 ' ' $25,596.00 '\n",
      " ' $689.76 ' ' $16,866.00 ' ' $17,241.00 ' ' $498.60 ' ' $369.60 '\n",
      " ' $2,310.30 ' ' $892.44 ' ' $1,356.60 ' ' $588.80 ' ' $798.28 '\n",
      " ' $24,252.00 ' ' $3,836.00 ' ' $1,180.20 ' ' $22,308.00 ' ' $1,190.28 '\n",
      " ' $3,975.00 ' ' $16,974.00 ' ' $35,016.00 ' ' $48,300.00 ' ' $14,940.00 '\n",
      " ' $130.80 ' ' $1,659.20 ' ' $844.80 ' ' $402.60 ' ' $908.40 ' ' $703.20 '\n",
      " ' $2,116.80 ' ' $30,478.00 ' ' $415.68 ' ' $4,886.00 ' ' $26,110.00 '\n",
      " ' $5,370.00 ' ' $26,698.00 ' ' $24,892.00 ' ' $405.65 ' ' $480.20 '\n",
      " ' $822.15 ' ' $941.15 ' ' $1,458.60 ' ' $589.05 ' ' $673.80 '\n",
      " ' $1,119.00 ' ' $669.60 ' ' $1,563.00 ' ' $14,865.00 ' ' $355.60 '\n",
      " ' $2,093.25 ' ' $199.50 ' ' $870.45 ' ' $24,228.75 ' ' $22,668.75 '\n",
      " ' $12,600.00 ' ' $1,405.20 ' ' $16,500.00 ' ' $1,303.00 ' ' $18,700.00 '\n",
      " ' $14,906.25 ' ' $24,105.00 ' ' $814.45 ' ' $10,535.00 ' ' $1,965.00 '\n",
      " ' $21,490.00 ' ' $1,389.00 ' ' $5,381.25 ' ' $4,400.00 ' ' $1,802.00 '\n",
      " ' $2,663.00 ' ' $747.60 ' ' $1,587.00 ' ' $416.25 ' ' $2,145.75 '\n",
      " ' $5,043.75 ' ' $2,832.00 ' ' $1,579.00 ' ' $1,033.00 ' ' $18,750.00 '\n",
      " ' $1,265.00 ' ' $2,297.00 ' ' $23,625.00 ' ' $9,660.00 ' ' $3,420.90 '\n",
      " ' $1,341.00 ' ' $2,559.60 ' ' $404.64 ' ' $1,655.28 ' ' $1,827.00 '\n",
      " ' $110.46 ' ' $20,580.00 ' ' $30,660.00 ' ' $589.26 ' ' $1,960.56 '\n",
      " ' $31,416.00 ' ' $15,267.00 ' ' $7,140.00 ' ' $20,662.50 ' ' $1,377.00 '\n",
      " ' $629.16 ' ' $21,978.00 ' ' $43,596.00 ' ' $1,347.60 ' ' $43,848.00 '\n",
      " ' $35,259.00 ' ' $2,108.40 ' ' $1,978.20 ' ' $1,568.70 ' ' $1,037.70 '\n",
      " ' $1,201.20 ' ' $559.86 ' ' $610.68 ' ' $1,582.56 ' ' $2,567.60 '\n",
      " ' $1,965.60 ' ' $1,967.28 ' ' $505.19 ' ' $1,325.10 ' ' $556.15 '\n",
      " ' $268.03 ' ' $775.18 ' ' $1,460.34 ' ' $1,860.60 ' ' $43,144.50 '\n",
      " ' $9,408.00 ' ' $45,801.00 ' ' $2,766.40 ' ' $21,875.00 ' ' $35,742.00 '\n",
      " ' $30,738.75 ' ' $2,206.05 ' ' $3,077.55 ' ' $2,149.00 ' ' $23,583.00 '\n",
      " ' $29,484.00 ' ' $2,320.92 ' ' $1,041.25 ' ' $34,839.00 ' ' $852.60 '\n",
      " ' $18,261.25 ' ' $1,989.40 ' ' $28,812.00 ' ' $823.20 ' ' $2,725.38 '\n",
      " ' $57,687.00 ' ' $14,393.75 ' ' $70,462.00 ' ' $8,697.50 ' ' $1,565.20 '\n",
      " ' $273.28 ' ' $2,051.20 ' ' $143.92 ' ' $15,400.00 ' ' $588.00 '\n",
      " ' $38,136.00 ' ' $3,001.20 ' ' $1,132.80 ' ' $1,032.00 ' ' $37,488.00 '\n",
      " ' $30,792.00 ' ' $853.20 ' ' $11,140.00 ' ' $705.04 ' ' $613.20 '\n",
      " ' $2,185.60 ' ' $59,040.00 ' ' $379.68 ' ' $894.88 ' ' $1,349.04 '\n",
      " ' $3,094.40 ' ' $4,788.80 ' ' $60,088.00 ' ' $1,089.76 ' ' $574.08 '\n",
      " ' $1,627.92 ' ' $1,309.28 ' ' $9,264.00 ' ' $15,240.00 ' ' $16,086.00 '\n",
      " ' $10,668.00 ' ' $11,816.00 ' ' $51,216.00 ' ' $19,392.00 ' ' $2,432.00 '\n",
      " ' $1,320.00 ' ' $698.40 ' ' $29,538.00 ' ' $396.36 ' ' $102,667.50 '\n",
      " ' $52,479.00 ' ' $8,694.00 ' ' $2,506.68 ' ' $20,891.25 ' ' $1,014.93 '\n",
      " ' $31,466.25 ' ' $9,018.00 ' ' $69,255.00 ' ' $76,135.50 ' ' $4,961.25 '\n",
      " ' $1,656.45 ' ' $35,748.00 ' ' $1,917.00 ' ' $330.75 ' ' $102,424.50 '\n",
      " ' $41,170.50 ' ' $6,378.75 ' ' $23,737.50 ' ' $39,973.50 ' ' $2,112.48 '\n",
      " ' $71,793.00 ' ' $42,572.25 ' ' $950.40 ' ' $50,409.00 ' ' $2,412.72 '\n",
      " ' $9,866.25 ' ' $65,236.50 ' ' $1,309.50 ' ' $3,049.20 ' ' $1,193.40 '\n",
      " ' $515.97 ' ' $1,706.40 ' ' $328.23 ' ' $1,751.40 ' ' $1,868.40 '\n",
      " ' $226.80 ' ' $2,124.36 ' ' $3,547.80 ' ' $4,827.60 ' ' $2,201.18 '\n",
      " ' $330.48 ' ' $-\\u2007\\u2007 ']\n"
     ]
    }
   ],
   "execution_count": 79
  },
  {
   "metadata": {},
   "cell_type": "markdown",
   "source": "Sustituimos el valor  $-\\u2007\\u2007  por 0",
   "id": "996b3effb8474fcd"
  },
  {
   "metadata": {
    "ExecuteTime": {
     "end_time": "2025-03-12T09:24:22.974524Z",
     "start_time": "2025-03-12T09:24:22.956585Z"
    }
   },
   "cell_type": "code",
   "source": [
    "df.Discounts = df.Discounts.replace(\" $-\\u2007\\u2007 \",\"0\")\n",
    "df.Discounts.value_counts"
   ],
   "id": "77de97a5dcba27e2",
   "outputs": [
    {
     "data": {
      "text/plain": [
       "<bound method IndexOpsMixin.value_counts of 0          $463.20 \n",
       "1        $1,629.60 \n",
       "2          $463.20 \n",
       "3       $43,068.75 \n",
       "4       $18,525.00 \n",
       "           ...     \n",
       "695               0\n",
       "696               0\n",
       "697               0\n",
       "698               0\n",
       "699               0\n",
       "Name: Discounts, Length: 700, dtype: object>"
      ]
     },
     "execution_count": 80,
     "metadata": {},
     "output_type": "execute_result"
    }
   ],
   "execution_count": 80
  },
  {
   "metadata": {},
   "cell_type": "markdown",
   "source": "Hacemos lo mismo para todo el df",
   "id": "dc3194d236d57934"
  },
  {
   "metadata": {
    "ExecuteTime": {
     "end_time": "2025-03-12T09:24:23.386033Z",
     "start_time": "2025-03-12T09:24:23.369994Z"
    }
   },
   "cell_type": "code",
   "source": [
    "for col in df.columns:\n",
    "    df[col] = df[col].replace(\" $-\\u2007\\u2007 \",\"0\")"
   ],
   "id": "7d72048f2214b27a",
   "outputs": [],
   "execution_count": 81
  },
  {
   "metadata": {},
   "cell_type": "markdown",
   "source": "Las columnas Units Sold, Manufacturing Price, Sale Price, Gross Sales, Discounts, Sales, COGS y Profit las tenemos que convertir a columnas numéricas.",
   "id": "728b3efdf6e55907"
  },
  {
   "metadata": {
    "ExecuteTime": {
     "end_time": "2025-03-12T09:24:24.964612Z",
     "start_time": "2025-03-12T09:24:23.537050Z"
    }
   },
   "cell_type": "code",
   "source": [
    "columnas_numericas = [\"Units Sold\", \"Manufacturing Price\", \"Sale Price\", \"Gross Sales\", \"Discounts\", \"Sales\",\"COGS\", \"Profit\"]\n",
    "try:\n",
    "    for col in columnas_numericas:\n",
    "        for value in df[col]:\n",
    "            value_numerico = value.replace(\"$\", \"\")\n",
    "            value_numerico = value_numerico.replace(\",\", \"\")\n",
    "            value_numerico = value_numerico.replace(\"(\", \"-\")\n",
    "            value_numerico = value_numerico.replace(\")\", \"\")\n",
    "            df[col] = df[col].replace(value, float(value_numerico))\n",
    "            \n",
    "except ValueError:\n",
    "        print(f\"Error producido por {value},{value_numerico}, en la columna {col}\")"
   ],
   "id": "4517e5ca38665eb4",
   "outputs": [
    {
     "name": "stderr",
     "output_type": "stream",
     "text": [
      "C:\\Users\\vicbr\\AppData\\Local\\Temp\\ipykernel_9320\\2109172472.py:9: FutureWarning: Downcasting behavior in `replace` is deprecated and will be removed in a future version. To retain the old behavior, explicitly call `result.infer_objects(copy=False)`. To opt-in to the future behavior, set `pd.set_option('future.no_silent_downcasting', True)`\n",
      "  df[col] = df[col].replace(value, float(value_numerico))\n"
     ]
    }
   ],
   "execution_count": 82
  },
  {
   "metadata": {
    "ExecuteTime": {
     "end_time": "2025-03-12T09:24:25.001638Z",
     "start_time": "2025-03-12T09:24:24.985747Z"
    }
   },
   "cell_type": "code",
   "source": "df.dtypes",
   "id": "254bf3fd2a14e64f",
   "outputs": [
    {
     "data": {
      "text/plain": [
       "Segment                 object\n",
       "Country                 object\n",
       "Product                 object\n",
       "Discount Band           object\n",
       "Units Sold             float64\n",
       "Manufacturing Price    float64\n",
       "Sale Price             float64\n",
       "Gross Sales            float64\n",
       "Discounts              float64\n",
       "Sales                  float64\n",
       "COGS                   float64\n",
       "Profit                 float64\n",
       "Date                    object\n",
       "Month Number             int64\n",
       "Month Name              object\n",
       "Year                     int64\n",
       "dtype: object"
      ]
     },
     "execution_count": 83,
     "metadata": {},
     "output_type": "execute_result"
    }
   ],
   "execution_count": 83
  },
  {
   "metadata": {},
   "cell_type": "markdown",
   "source": [
    "Vamos a sacar los siguientes datos sobre el dataset:\n",
    "- Ventas brutas por país\n",
    "- Promedio ventas\n",
    "- Profit total\n",
    "- Margen de profit \n",
    "- Ingresos totales por país\n",
    "- Promedio de profit"
   ],
   "id": "c71834e348dd904a"
  },
  {
   "metadata": {
    "ExecuteTime": {
     "end_time": "2025-03-12T09:24:25.093069Z",
     "start_time": "2025-03-12T09:24:25.080343Z"
    }
   },
   "cell_type": "code",
   "source": [
    "ventas_brutas_por_pais = df.groupby(\"Country\")[\"Gross Sales\"].sum().round(0)\n",
    "ventas_brutas_por_pais.name = \"Ventas Brutas (€)\"\n",
    "ventas_brutas_por_pais"
   ],
   "id": "3659ae5cb3335098",
   "outputs": [
    {
     "data": {
      "text/plain": [
       "Country\n",
       "Canada                      26932164.0\n",
       "France                      26081674.0\n",
       "Germany                     24921468.0\n",
       "Mexico                      22726935.0\n",
       "United States of America    27269358.0\n",
       "Name: Ventas Brutas (€), dtype: float64"
      ]
     },
     "execution_count": 84,
     "metadata": {},
     "output_type": "execute_result"
    }
   ],
   "execution_count": 84
  },
  {
   "metadata": {
    "ExecuteTime": {
     "end_time": "2025-03-12T09:24:25.261524Z",
     "start_time": "2025-03-12T09:24:25.241785Z"
    }
   },
   "cell_type": "code",
   "source": [
    "promedio_ventas = df.groupby(\"Country\")[\"Gross Sales\"].mean().round(0)\n",
    "promedio_ventas.name = \"Promedio Ventas (€)\"\n",
    "promedio_ventas"
   ],
   "id": "db31217699681a8f",
   "outputs": [
    {
     "data": {
      "text/plain": [
       "Country\n",
       "Canada                      192373.0\n",
       "France                      186298.0\n",
       "Germany                     178010.0\n",
       "Mexico                      162335.0\n",
       "United States of America    194781.0\n",
       "Name: Promedio Ventas (€), dtype: float64"
      ]
     },
     "execution_count": 85,
     "metadata": {},
     "output_type": "execute_result"
    }
   ],
   "execution_count": 85
  },
  {
   "metadata": {
    "ExecuteTime": {
     "end_time": "2025-03-12T09:24:25.624890Z",
     "start_time": "2025-03-12T09:24:25.598306Z"
    }
   },
   "cell_type": "code",
   "source": [
    "total_profit = df.groupby(\"Country\")[\"Profit\"].sum().round(0)\n",
    "total_profit.name = \"Ganancias totales (€)\"\n",
    "total_profit"
   ],
   "id": "1cca787108f82081",
   "outputs": [
    {
     "data": {
      "text/plain": [
       "Country\n",
       "Canada                      3529229.0\n",
       "France                      3781021.0\n",
       "Germany                     3680389.0\n",
       "Mexico                      2907523.0\n",
       "United States of America    2995541.0\n",
       "Name: Ganancias totales (€), dtype: float64"
      ]
     },
     "execution_count": 86,
     "metadata": {},
     "output_type": "execute_result"
    }
   ],
   "execution_count": 86
  },
  {
   "metadata": {
    "ExecuteTime": {
     "end_time": "2025-03-12T09:24:25.803796Z",
     "start_time": "2025-03-12T09:24:25.786855Z"
    }
   },
   "cell_type": "code",
   "source": [
    "df[\"Profit_margin\"] = df[\"Profit\"]/df[\"Gross Sales\"]\n",
    "margen_ganancia_medio_por_pais = df.groupby(\"Country\")[\"Profit_margin\"].mean().round(6)*100\n",
    "margen_ganancia_medio_por_pais.name = \"Margen de ganancia medio (%)\"\n",
    "margen_ganancia_medio_por_pais"
   ],
   "id": "8143199a99aa937a",
   "outputs": [
    {
     "data": {
      "text/plain": [
       "Country\n",
       "Canada                      25.7194\n",
       "France                      26.2337\n",
       "Germany                     26.5765\n",
       "Mexico                      25.4622\n",
       "United States of America    25.9765\n",
       "Name: Margen de ganancia medio (%), dtype: float64"
      ]
     },
     "execution_count": 87,
     "metadata": {},
     "output_type": "execute_result"
    }
   ],
   "execution_count": 87
  },
  {
   "metadata": {
    "ExecuteTime": {
     "end_time": "2025-03-12T09:24:26.040720Z",
     "start_time": "2025-03-12T09:24:26.018886Z"
    }
   },
   "cell_type": "code",
   "source": [
    "df['Ingresos'] = df['Sale Price'] * df['Units Sold']\n",
    "ingresos_totales_por_pais = df.groupby('Country')['Ingresos'].sum().round(0)\n",
    "ingresos_totales_por_pais.name = \"Ingresos totales (€)\"\n",
    "ingresos_totales_por_pais"
   ],
   "id": "f334ce44723b5110",
   "outputs": [
    {
     "data": {
      "text/plain": [
       "Country\n",
       "Canada                      26932164.0\n",
       "France                      26081674.0\n",
       "Germany                     24921468.0\n",
       "Mexico                      22726935.0\n",
       "United States of America    27269358.0\n",
       "Name: Ingresos totales (€), dtype: float64"
      ]
     },
     "execution_count": 88,
     "metadata": {},
     "output_type": "execute_result"
    }
   ],
   "execution_count": 88
  },
  {
   "metadata": {
    "ExecuteTime": {
     "end_time": "2025-03-12T09:24:26.142866Z",
     "start_time": "2025-03-12T09:24:26.127512Z"
    }
   },
   "cell_type": "code",
   "source": [
    "ganancias_totales_por_pais = df.groupby('Country')['Profit'].mean().round(0)\n",
    "ganancias_totales_por_pais.name = \"Ganancias totales (€)\"\n",
    "ganancias_totales_por_pais"
   ],
   "id": "d41c6aa2554e70d0",
   "outputs": [
    {
     "data": {
      "text/plain": [
       "Country\n",
       "Canada                      25209.0\n",
       "France                      27007.0\n",
       "Germany                     26288.0\n",
       "Mexico                      20768.0\n",
       "United States of America    21397.0\n",
       "Name: Ganancias totales (€), dtype: float64"
      ]
     },
     "execution_count": 89,
     "metadata": {},
     "output_type": "execute_result"
    }
   ],
   "execution_count": 89
  },
  {
   "metadata": {},
   "cell_type": "markdown",
   "source": "### Creamos el df con los datos",
   "id": "e2d661117f3c330f"
  },
  {
   "metadata": {
    "ExecuteTime": {
     "end_time": "2025-03-12T09:24:26.253409Z",
     "start_time": "2025-03-12T09:24:26.243383Z"
    }
   },
   "cell_type": "code",
   "source": [
    "df_datos = pd.DataFrame(data = [ventas_brutas_por_pais, promedio_ventas, total_profit, margen_ganancia_medio_por_pais, ingresos_totales_por_pais, ganancias_totales_por_pais])\n",
    "df_datos.columns = [\"Canada\", \"France\", \"Germany\", \"Mexico\", \"USA\"]"
   ],
   "id": "5bcbd2e68d3d8a90",
   "outputs": [],
   "execution_count": 90
  },
  {
   "metadata": {},
   "cell_type": "markdown",
   "source": "### Creamos la tabla para introducir en el pdf con reportlab.platypus",
   "id": "7d268050f18f221b"
  },
  {
   "metadata": {
    "ExecuteTime": {
     "end_time": "2025-03-12T09:24:26.337789Z",
     "start_time": "2025-03-12T09:24:26.323314Z"
    }
   },
   "cell_type": "code",
   "source": [
    "lista_filas = [[\"Estadísticas\",\"Canada\", \"France\", \"Germany\", \"Mexico\", \"USA\"]]\n",
    "lista_filas_data = df_datos.values.tolist()\n",
    "for i,value in enumerate(lista_filas_data[3]):\n",
    "    value = round(value,2)\n",
    "    lista_filas_data[3][i] = value\n",
    "nombre_filas = df_datos.index.tolist()\n",
    "for index_fila, lista in enumerate(lista_filas_data):\n",
    "    base = [nombre_filas[index_fila]]\n",
    "    base.extend(lista)\n",
    "    lista_filas.append(base)\n",
    "tabla = Table(lista_filas, colWidths = [200,70,70,70,70], rowHeights= [35,25,25,25,25,25,25] )\n",
    "print(tabla)"
   ],
   "id": "74d54819e6a9dcb0",
   "outputs": [
    {
     "name": "stdout",
     "output_type": "stream",
     "text": [
      "Table(\n",
      " rowHeights=[35, 25, 25, 25, 25, 25, 25],\n",
      " colWidths=[200, 70, 70, 70, 70, 70],\n",
      "[['Estadísticas', 'Canada', 'France', 'Germany', 'Mexico', 'USA'],\n",
      "   ['Ventas Brutas (€)',\n",
      "    26932164.0,\n",
      "    26081674.0,\n",
      "    24921468.0,\n",
      "    22726935.0,\n",
      "    27269358.0],\n",
      "   ['Promedio Ventas (€)', 192373.0, 186298.0, 178010.0, 162335.0, 194781.0],\n",
      "   ['Ganancias totales (€)',\n",
      "    3529229.0,\n",
      "    3781021.0,\n",
      "    3680389.0,\n",
      "    2907523.0,\n",
      "    2995541.0],\n",
      "   ['Margen de ganancia medio (%)', 25.72, 26.23, 26.58, 25.46, 25.98],\n",
      "   ['Ingresos totales (€)',\n",
      "    26932164.0,\n",
      "    26081674.0,\n",
      "    24921468.0,\n",
      "    22726935.0,\n",
      "    27269358.0],\n",
      "   ['Ganancias totales (€)', 25209.0, 27007.0, 26288.0, 20768.0, 21397.0]]\n",
      ") # end table\n"
     ]
    }
   ],
   "execution_count": 91
  },
  {
   "metadata": {},
   "cell_type": "markdown",
   "source": "### Estilizamos la tabla con TableStyles",
   "id": "8f787f9299f8b1bc"
  },
  {
   "metadata": {
    "ExecuteTime": {
     "end_time": "2025-03-12T09:24:26.440748Z",
     "start_time": "2025-03-12T09:24:26.428336Z"
    }
   },
   "cell_type": "code",
   "source": [
    "estilos = TableStyle([(\"BACKGROUND\", (0, 0), (-1, 0), brown),\n",
    "                      (\"GRID\", (0,0), (-1,-1),1, black),\n",
    "                      (\"TEXTCOLOR\", (0,0), (-1,0), white),\n",
    "                      (\"ALINGMENT\", (0,0), (-1,-1), \"CENTER\"),\n",
    "                      (\"FONTSIZE\", (0,0), (-1,0), 15),\n",
    "                      (\"VALIGN\", (0,0), (-1,-1), \"MIDDLE\"),\n",
    "                      (\"FONTNAME\", (0,0), (-1,0), \"Helvetica-Bold\"),\n",
    "                      ])\n",
    "tabla.setStyle(estilos)\n"
   ],
   "id": "3b0f9ecf9f6f74be",
   "outputs": [],
   "execution_count": 92
  },
  {
   "metadata": {
    "ExecuteTime": {
     "end_time": "2025-03-12T09:24:26.556995Z",
     "start_time": "2025-03-12T09:24:26.540779Z"
    }
   },
   "cell_type": "code",
   "source": [
    "c = canvas.Canvas(\"output/tabla.pdf\")\n",
    "tabla.wrapOn(c, 1000, 1000)\n",
    "tabla.drawOn(c,25, 500)\n",
    "c.save()"
   ],
   "id": "4bb2742e7f2fb752",
   "outputs": [],
   "execution_count": 93
  },
  {
   "metadata": {},
   "cell_type": "markdown",
   "source": "### Creamos los gráficos con matplotlib",
   "id": "dbfe983489abb894"
  },
  {
   "metadata": {},
   "cell_type": "markdown",
   "source": [
    "Los gráficos que crearemos serán los siguientes:\n",
    "- Gráfico de barras de Gross sales y profits entre paises\n",
    "- ScatterPlot de Gross sales y profits por pais\n",
    "- PieChart de margen de ganancia medio\n",
    "- Gráfico de barras de ganancias totales"
   ],
   "id": "4338be69daf16bac"
  },
  {
   "metadata": {},
   "cell_type": "markdown",
   "source": "####  Gráfico de barras de Gross sales y profits entre paises",
   "id": "50f5392c172a4173"
  },
  {
   "metadata": {
    "ExecuteTime": {
     "end_time": "2025-03-12T09:48:15.694319Z",
     "start_time": "2025-03-12T09:48:15.414840Z"
    }
   },
   "cell_type": "code",
   "source": [
    "df_datos_values = df_datos.values.tolist()\n",
    "plt.bar(df_datos.columns, df_datos_values[0], width= 0.5)\n",
    "plt.bar(df_datos.columns, df_datos_values[2], width= 0.5)\n",
    "plt.xlabel(\"Paises\")\n",
    "plt.ylabel(\"Valor (10.000.000 €)\")\n",
    "plt.legend([\"Ganancias brutas\", \"Beneficios\"])\n",
    "plt.title(\"Comparacion entre ganancias brutas y beneficios\")\n",
    "plt.savefig(\"output/Barras_Ganancias_Beneficios\")"
   ],
   "id": "b7c79c291fa80e78",
   "outputs": [
    {
     "data": {
      "text/plain": [
       "<Figure size 640x480 with 1 Axes>"
      ],
      "image/png": "[encoded data removed]"
     },
     "metadata": {},
     "output_type": "display_data"
    }
   ],
   "execution_count": 134
  },
  {
   "metadata": {},
   "cell_type": "markdown",
   "source": "### Scatterplot de gross sales y profits",
   "id": "5abc40a977ebda0c"
  },
  {
   "metadata": {
    "ExecuteTime": {
     "end_time": "2025-03-12T09:24:27.577835Z",
     "start_time": "2025-03-12T09:24:26.987848Z"
    }
   },
   "cell_type": "code",
   "source": [
    "color = [\"red\",\"green\",\"yellow\",\"purple\",\"blue\"]\n",
    "paises = [\"Canada\", \"France\", \"Germany\", \"Mexico\", \"USA\"]\n",
    "plt.scatter(df_datos_values[0], df_datos_values[2], c = color)\n",
    "plt.xlabel(\"Ganancias brutas\")\n",
    "plt.ylabel(\"Beneficios\")\n",
    "for col, pais in zip(color,paises):\n",
    "    plt.scatter([],[], color = col, label = pais)\n",
    "plt.legend(title = \"Países\")\n",
    "plt.title(\"Scatter entre ganancias brutas y beneficios\")\n",
    "plt.savefig(\"output/Scatter_Ganancias_Beneficios\")"
   ],
   "id": "b059a25455fba399",
   "outputs": [
    {
     "data": {
      "text/plain": [
       "<Figure size 640x480 with 1 Axes>"
      ],
      "image/png": "[encoded data removed]"
     },
     "metadata": {},
     "output_type": "display_data"
    }
   ],
   "execution_count": 95
  },
  {
   "metadata": {},
   "cell_type": "markdown",
   "source": "### PieChart de margen de ganancia medio",
   "id": "2abc810139ce1fc3"
  },
  {
   "metadata": {
    "ExecuteTime": {
     "end_time": "2025-03-12T09:24:27.725862Z",
     "start_time": "2025-03-12T09:24:27.604246Z"
    }
   },
   "cell_type": "code",
   "source": [
    "explode = [0.1,0.1,0.1,0.1,0.1]\n",
    "labels = df_datos_values[3]\n",
    "labels_str = []\n",
    "for label in labels:\n",
    "    labels_str.append(str(round(label,2)) + \"%\")\n",
    "plt.pie(df_datos_values[3], labels = labels_str, explode = explode, startangle = 20)\n",
    "plt.legend(paises, loc = \"upper center\")\n",
    "plt.savefig(\"output/pie_Ganancias_Beneficios\")"
   ],
   "id": "ef27bfa917690b82",
   "outputs": [
    {
     "data": {
      "text/plain": [
       "<Figure size 640x480 with 1 Axes>"
      ],
      "image/png": "[encoded data removed]"
     },
     "metadata": {},
     "output_type": "display_data"
    }
   ],
   "execution_count": 96
  },
  {
   "metadata": {},
   "cell_type": "markdown",
   "source": "### Grafico de barras de ganancias totales",
   "id": "db57c166c297245a"
  },
  {
   "metadata": {
    "ExecuteTime": {
     "end_time": "2025-03-12T09:24:37.597141Z",
     "start_time": "2025-03-12T09:24:37.341224Z"
    }
   },
   "cell_type": "code",
   "source": [
    "plt.bar(df_datos.columns, df_datos_values[2], width= 0.5)\n",
    "plt.title(\"Beneficios por pais\")\n",
    "plt.ylabel(\"Beneficios (Millones de euros)\")\n",
    "plt.xlabel(\"Paises\")\n",
    "plt.savefig(\"output/Barras_Beneficios\")"
   ],
   "id": "f4e0566cea6c194b",
   "outputs": [
    {
     "data": {
      "text/plain": [
       "<Figure size 640x480 with 1 Axes>"
      ],
      "image/png": "[encoded data removed]"
     },
     "metadata": {},
     "output_type": "display_data"
    }
   ],
   "execution_count": 98
  },
  {
   "metadata": {},
   "cell_type": "markdown",
   "source": "### Creamos el pdf con reportlab.canvas",
   "id": "c30684d6a569fcdc"
  },
  {
   "metadata": {
    "ExecuteTime": {
     "end_time": "2025-03-12T13:32:09.596787Z",
     "start_time": "2025-03-12T13:32:09.357563Z"
    }
   },
   "cell_type": "code",
   "source": [
    "from reportlab.lib.pagesizes import A4\n",
    "c = canvas.Canvas(\"output/reporte_final.pdf\", pagesize = A4)\n",
    "width, height = A4\n",
    "print(width, height)\n",
    "c.setFont(\"Helvetica-Bold\", 20)\n",
    "c.drawCentredString(y = height - 50, x = width/2, text = \"Reporte de Financial Sample\")\n",
    "c.setFont(\"Helvetica-Bold\", 15)\n",
    "c.drawCentredString(y = height - 80, x = width/2, text = \"Autor: Victor Brown Sogorb\")\n",
    "c.setFont(\"Helvetica\", 13)\n",
    "c.drawString(y = height - 130, x = 40, text = \"Tabla informativa del reporte:\")\n",
    "tabla.wrapOn(c, 1000, 1000)\n",
    "tabla.drawOn(c,25, 500)\n",
    "c.drawString(y = height -390, x = 40, text = \"Gráficas informativas de los datos:\") \n",
    "c.drawString(y = height - 420, x = 40, text = \"Beneficios por país:\")\n",
    "c.drawImage(\"output/Barras_Beneficios.png\", x = 50, y = 30, height = 360, width = 480) #480,640\n",
    "c.drawString(y = 10, x = width - 20, text = \"1\")\n",
    "c.drawImage(\"data/7145.jpg\", x = 30, y = height - 110, height = 100, width = 100)\n",
    "c.showPage()\n",
    "c.drawString(y = height - 50, x = 40, text = \"Ganancias brutas y beneficios por país:\")\n",
    "c.drawImage(\"output/Barras_Ganancias_Beneficios.png\", x = 50, y = 430, height = 360, width = 480) \n",
    "c.drawString(y = height - 450, x = 40, text = \"Margen de ganancia por país:\")\n",
    "c.drawImage(\"output/pie_Ganancias_Beneficios.png\", x = 50, y = 0, height = 360, width = 480)\n",
    "c.drawString(y = 10, x = width - 20, text = \"2\")\n",
    "c.showPage()\n",
    "c.drawString(y = height - 50, x = 40, text = \"Scatter entre ganancias brutas y beneficios:\")\n",
    "c.drawImage(\"output/Scatter_Ganancias_Beneficios.png\", x = 50, y = 430, height = 360, width = 480) \n",
    "c.drawString(y = 10, x = width - 20, text = \"3\")\n",
    "c.save()"
   ],
   "id": "f5b10b6fb9bad0b4",
   "outputs": [
    {
     "name": "stdout",
     "output_type": "stream",
     "text": [
      "595.2755905511812 841.8897637795277\n"
     ]
    }
   ],
   "execution_count": 158
  },
  {
   "metadata": {},
   "cell_type": "code",
   "outputs": [],
   "execution_count": null,
   "source": "",
   "id": "4d9ec568ce0afc26"
  }
 ],
 "metadata": {
  "kernelspec": {
   "display_name": "Python 3",
   "language": "python",
   "name": "python3"
  },
  "language_info": {
   "codemirror_mode": {
    "name": "ipython",
    "version": 2
   },
   "file_extension": ".py",
   "mimetype": "text/x-python",
   "name": "python",
   "nbconvert_exporter": "python",
   "pygments_lexer": "ipython2",
   "version": "2.7.6"
  }
 },
 "nbformat": 4,
 "nbformat_minor": 5
}
